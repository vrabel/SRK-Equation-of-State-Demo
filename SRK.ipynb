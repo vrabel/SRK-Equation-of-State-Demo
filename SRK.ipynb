# Soave-Redlich-Kwong Cubic Equation of State

import numpy as np
